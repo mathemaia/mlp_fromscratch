{
 "cells": [
  {
   "cell_type": "code",
   "execution_count": 1,
   "metadata": {},
   "outputs": [],
   "source": [
    "import numpy as np\n",
    "import seaborn as sns\n",
    "from NeuralNetwork import *\n",
    "from sklearn.preprocessing import OneHotEncoder\n",
    "import pandas as pd\n",
    "from tensorflow.keras.datasets import mnist\n",
    "from tensorflow.keras.utils import to_categorical\n",
    "from sklearn.model_selection import train_test_split\n",
    "from sklearn.preprocessing import StandardScaler\n",
    "from sklearn import datasets\n",
    "from tensorflow.keras.datasets import fashion_mnist\n",
    "import matplotlib.pyplot as plt"
   ]
  },
  {
   "cell_type": "markdown",
   "metadata": {},
   "source": [
    "#\n",
    "# Utils"
   ]
  },
  {
   "cell_type": "code",
   "execution_count": 2,
   "metadata": {},
   "outputs": [],
   "source": [
    "encoder = OneHotEncoder(sparse_output=False)\n",
    "scaler = StandardScaler()\n",
    "\n",
    "def datasets(name: str) -> tuple:\n",
    "    if name == 'digits':\n",
    "        digits = datasets.load_digits()\n",
    "\n",
    "        X = digits.data \n",
    "        y = encoder.fit_transform(digits.target.reshape(-1, 1))\n",
    "\n",
    "        X_train, X_test, y_train, y_test = train_test_split(X, y, train_size=0.8)\n",
    "\n",
    "        X_train = scaler.fit_transform(X_train)\n",
    "        X_test = scaler.transform(X_test)\n",
    "    \n",
    "    elif name == 'iris':\n",
    "        df = sns.load_dataset('iris')\n",
    "        X = df.drop('species', axis=1).to_numpy()\n",
    "        y = encoder.fit_transform(df[['species']])\n",
    "\n",
    "        X_train, X_test, y_train, y_test = train_test_split(X, y, train_size=0.8)\n",
    "\n",
    "        X_train = scaler.fit_transform(X_train)\n",
    "        X_test = scaler.transform(X_test)\n",
    "    \n",
    "    elif name == 'fashion_mnist':\n",
    "        (X_train, y_train), (X_test, y_test) = fashion_mnist.load_data()\n",
    "\n",
    "        X_train = X_train.reshape(X_train.shape[0], -1)\n",
    "        X_test = X_test.reshape(X_test.shape[0], -1)\n",
    "\n",
    "        X_train = scaler.fit_transform(X_train)\n",
    "        X_test = scaler.transform(X_test)\n",
    "\n",
    "        y_train = encoder.fit_transform(y_train.reshape(-1, 1))\n",
    "        y_test = encoder.fit_transform(y_test.reshape(-1, 1))\n",
    "     \n",
    "    elif name == 'mnist':\n",
    "        (train_images, train_labels), (test_images, test_labels) = mnist.load_data()\n",
    "\n",
    "        X_train = train_images.reshape((60000, 28 * 28)).astype('float32') / 255\n",
    "        X_test = test_images.reshape((10000, 28 * 28)).astype('float32') / 255\n",
    "\n",
    "        y_train = to_categorical(train_labels)\n",
    "        y_test = to_categorical(test_labels)\n",
    "\n",
    "        X_train = scaler.fit_transform(X_train)\n",
    "        X_test = scaler.transform(X_test)\n",
    "        \n",
    "    elif name == 'mnist_binary':\n",
    "        (X_train, y_train), (X_test, y_test) = mnist.load_data()\n",
    "\n",
    "        train_filter = np.where((y_train == 0) | (y_train == 1))\n",
    "        test_filter = np.where((y_test == 0) | (y_test == 1))\n",
    "\n",
    "        X_train = X_train[train_filter]\n",
    "        X_train = X_train.reshape(X_train.shape[0], -1)\n",
    "        y_train = y_train[train_filter].reshape(-1, 1)\n",
    "\n",
    "        X_test = X_test[test_filter]\n",
    "        X_test = X_test.reshape(X_test.shape[0], -1)\n",
    "        y_test = y_test[test_filter].reshape(-1, 1)\n",
    "        \n",
    "        X_train = scaler.fit_transform(X_train)\n",
    "        X_test = scaler.transform(X_test)\n",
    "    \n",
    "    elif name == 'breast_cancer':\n",
    "        breast_cancer = datasets.load_breast_cancer()\n",
    "        X = breast_cancer.data \n",
    "        y = encoder.fit_transform(breast_cancer.target.reshape(-1, 1))\n",
    "        y = y.argmax(axis=1).reshape(-1, 1)\n",
    "\n",
    "        X_train, X_test, y_train, y_test = train_test_split(X, y, train_size=0.8)\n",
    "    \n",
    "    elif name == 'wine_quality':\n",
    "        url = 'https://archive.ics.uci.edu/ml/machine-learning-databases/wine-quality/winequality-red.csv'\n",
    "        data = pd.read_csv(url, sep=';')\n",
    "        \n",
    "        X = data.drop(columns='quality').to_numpy()\n",
    "        y = data['quality'].to_numpy()\n",
    "\n",
    "        X_train, X_test, y_train, y_test = train_test_split(X, y, test_size=0.2, random_state=42)\n",
    "        \n",
    "        X_train = scaler.fit_transform(X_train)\n",
    "        X_test = scaler.transform(X_test)\n",
    "    \n",
    "    return (X_train, X_test, y_train, y_test)\n"
   ]
  },
  {
   "cell_type": "markdown",
   "metadata": {},
   "source": [
    "#\n",
    "# Exemplo de uso"
   ]
  },
  {
   "cell_type": "code",
   "execution_count": 4,
   "metadata": {},
   "outputs": [
    {
     "name": "stdout",
     "output_type": "stream",
     "text": [
      "epoch: 0    |  loss: 2.82377923175819      |  acc: 0.6167666666666667\n",
      "epoch: 1    |  loss: 1.452256514348799     |  acc: 0.71375\n",
      "epoch: 2    |  loss: 1.0886148891963525    |  acc: 0.77975\n",
      "epoch: 3    |  loss: 0.7999933331024306    |  acc: 0.8456333333333333\n",
      "epoch: 4    |  loss: 0.60218120336026      |  acc: 0.86405\n",
      "epoch: 5    |  loss: 0.5376654618121441    |  acc: 0.8926166666666666\n",
      "epoch: 6    |  loss: 0.46699088279047707   |  acc: 0.8938833333333334\n",
      "epoch: 7    |  loss: 0.469657616335623     |  acc: 0.90425\n",
      "epoch: 8    |  loss: 0.4374878130865916    |  acc: 0.91275\n",
      "epoch: 9    |  loss: 0.40721304612313963   |  acc: 0.9149666666666667\n",
      "epoch: 10   |  loss: 0.397985004485983     |  acc: 0.9208833333333334\n",
      "epoch: 11   |  loss: 0.38123980321748985   |  acc: 0.9268833333333333\n",
      "epoch: 12   |  loss: 0.3633467755115124    |  acc: 0.9306\n",
      "epoch: 13   |  loss: 0.3535612490059073    |  acc: 0.9337\n",
      "epoch: 14   |  loss: 0.3448269394289128    |  acc: 0.9370333333333334\n",
      "epoch: 15   |  loss: 0.33348021204333483   |  acc: 0.94005\n",
      "epoch: 16   |  loss: 0.3208566802263791    |  acc: 0.9425666666666667\n",
      "epoch: 17   |  loss: 0.30915231605301263   |  acc: 0.9444833333333333\n",
      "epoch: 18   |  loss: 0.29976564680609075   |  acc: 0.94605\n",
      "epoch: 19   |  loss: 0.2906575548311053    |  acc: 0.94815\n"
     ]
    }
   ],
   "source": [
    "# importa o dataset\n",
    "X_train, X_test, y_train, y_test = datasets('mnist')\n",
    "\n",
    "# cria a arquitetura\n",
    "model = MLP()\n",
    "model.add(Layer(units=128, activation='relu', input_shape=X_train.shape))\n",
    "model.add(Layer(units=64, activation='leaky_relu'))\n",
    "model.add(Layer(units=10, activation='softmax'))\n",
    "\n",
    "# prepara para o treinamento\n",
    "model.compile(optimizer='adam', loss='categorical_crossentropy')\n",
    "\n",
    "# faz o treinamento\n",
    "model.fit(X_train=X_train, y_train=y_train, epochs=20, lr=0.01)"
   ]
  },
  {
   "cell_type": "code",
   "execution_count": 5,
   "metadata": {},
   "outputs": [
    {
     "name": "stdout",
     "output_type": "stream",
     "text": [
      "epoch: 0    |  loss: 0.8025061123158387    |  acc: 0.6666666666666666\n"
     ]
    }
   ],
   "source": [
    "X = np.array([\n",
    "    [1, 2],\n",
    "    [3, 4],\n",
    "    [2, 1]\n",
    "])\n",
    "y = np.array([\n",
    "    [1],\n",
    "    [0],\n",
    "    [1]\n",
    "])\n",
    "\n",
    "model = MLP()\n",
    "model.add(Layer(units=3, activation='relu', input_shape=X.shape))\n",
    "model.add(Layer(units=2, activation='relu'))\n",
    "model.add(Layer(units=1, activation='sigmoid'))\n",
    "\n",
    "model.compile(optimizer='adam', loss='binary_crossentropy')\n",
    "\n",
    "model.fit(X_train=X, y_train=y, epochs=1, lr=0.01)"
   ]
  },
  {
   "cell_type": "code",
   "execution_count": 9,
   "metadata": {},
   "outputs": [
    {
     "data": {
      "text/plain": [
       "array([[ 0.19018555,  3.66374825, -0.70242729],\n",
       "       [ 0.86708526,  7.96518504, -1.63900795],\n",
       "       [ 0.82516401,  2.78840693, -0.70244371]])"
      ]
     },
     "execution_count": 9,
     "metadata": {},
     "output_type": "execute_result"
    }
   ],
   "source": [
    "np.dot(X, model.layers[0].T)"
   ]
  },
  {
   "cell_type": "code",
   "execution_count": 10,
   "metadata": {},
   "outputs": [
    {
     "data": {
      "text/plain": [
       "((3, 2), (2, 3))"
      ]
     },
     "execution_count": 10,
     "metadata": {},
     "output_type": "execute_result"
    }
   ],
   "source": [
    "X.shape, model.layers[0].T.shape"
   ]
  },
  {
   "cell_type": "markdown",
   "metadata": {},
   "source": [
    "#\n",
    "# Testes de desempenho"
   ]
  },
  {
   "cell_type": "code",
   "execution_count": 5,
   "metadata": {},
   "outputs": [
    {
     "name": "stdout",
     "output_type": "stream",
     "text": [
      "Acc:\n",
      "     train:  0.6470166666666667\n",
      "     test:   0.6556\n"
     ]
    }
   ],
   "source": [
    "acc_test = model.evaluate(y_pred=model.predict(X_test), y_true=y_test)\n",
    "acc_train = model.evaluate(y_pred=model.predict(X_train), y_true=y_train)\n",
    "\n",
    "print('Acc:')\n",
    "print('     train: ', acc_train)\n",
    "print('     test:  ', acc_test)"
   ]
  },
  {
   "cell_type": "markdown",
   "metadata": {},
   "source": [
    "#\n",
    "# Histograma dos parâmetros"
   ]
  },
  {
   "cell_type": "code",
   "execution_count": 6,
   "metadata": {},
   "outputs": [
    {
     "data": {
      "image/png": "[encoded data removed]",
      "text/plain": [
       "<Figure size 3000x500 with 5 Axes>"
      ]
     },
     "metadata": {},
     "output_type": "display_data"
    }
   ],
   "source": [
    "fig, axs = plt.subplots(nrows=1, ncols=len(model.layers), figsize=(6 * len(model.layers), len(model.layers)))\n",
    "\n",
    "for i, layer in enumerate(model.layers):\n",
    "    axs[i].hist(layer, bins=15)\n",
    "    axs[i].set_title(f'layer {i+1}')\n",
    "\n",
    "plt.show()"
   ]
  },
  {
   "cell_type": "markdown",
   "metadata": {},
   "source": [
    "#\n",
    "# Salvando e importando o modelo"
   ]
  },
  {
   "cell_type": "code",
   "execution_count": 10,
   "metadata": {},
   "outputs": [
    {
     "name": "stdout",
     "output_type": "stream",
     "text": [
      "Acc:\n",
      "     train:  0.8427\n",
      "     test:   0.8436\n"
     ]
    }
   ],
   "source": [
    "model.save('model1')\n",
    "model2 = MLP.load('model1.pkl')\n",
    "\n",
    "acc_test = model2.evaluate(y_pred=model.predict(X_test), y_true=y_test)\n",
    "acc_train = model2.evaluate(y_pred=model.predict(X_train), y_true=y_train)\n",
    "\n",
    "print('Acc:')\n",
    "print('     train: ', acc_train)\n",
    "print('     test:  ', acc_test)"
   ]
  }
 ],
 "metadata": {
  "kernelspec": {
   "display_name": "Python 3",
   "language": "python",
   "name": "python3"
  },
  "language_info": {
   "codemirror_mode": {
    "name": "ipython",
    "version": 3
   },
   "file_extension": ".py",
   "mimetype": "text/x-python",
   "name": "python",
   "nbconvert_exporter": "python",
   "pygments_lexer": "ipython3",
   "version": "3.12.4"
  }
 },
 "nbformat": 4,
 "nbformat_minor": 2
}
